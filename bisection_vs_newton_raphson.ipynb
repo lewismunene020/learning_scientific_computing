{
 "cells": [
  {
   "cell_type": "code",
   "execution_count": 13,
   "id": "51e8164b",
   "metadata": {},
   "outputs": [
    {
     "name": "stdout",
     "output_type": "stream",
     "text": [
      "Bisection Root  found at x=2.094552\n",
      "Newton Raphson Root at x = 2.094551\n",
      "BisectionTime : 0.0002887539994844701\n",
      "Newton Raphson Time : 0.00018150400137528777\n",
      "\n",
      "\n",
      "Newton raphson method  is faster than Bisection method\n"
     ]
    }
   ],
   "source": [
    "import math\n",
    "import timeit\n",
    "\n",
    "\n",
    "def f(x) :\n",
    "     return x**3 -2*x -5\n",
    "        \n",
    "\n",
    "def df(x):\n",
    "    return 3*x**2 -2 \n",
    "    \n",
    "a = 2\n",
    "b = 3\n",
    "tolerance = 1e-6\n",
    "x0 = a \n",
    "max_iterations = 100\n",
    "\n",
    "# bisection method \n",
    "\n",
    "start_time = timeit.default_timer()        \n",
    "for  i in range(max_iterations) :\n",
    "    c = (a+b)/2\n",
    "#     print(f\" c={c} , a={c}\")\n",
    "\n",
    "    if abs(f(c))<tolerance:\n",
    "        print(f\"Bisection Root  found at x={c:.6f}\")\n",
    "        break\n",
    "    elif f(c) * f(a) <0 :\n",
    "#         print(f\" c={c} , a={c}\")\n",
    "        b= c\n",
    "    else:\n",
    "        a = c\n",
    "bisection_time = timeit.default_timer() - start_time\n",
    "\n",
    "# newton raphson method \n",
    "\n",
    "start_time = timeit.default_timer()\n",
    "for  i in range(max_iterations) :\n",
    "        fx = f(x0)\n",
    "        dfx = df(x0)\n",
    "        x1 = x0 - fx/dfx\n",
    "        if abs( f(x1) ) < tolerance:\n",
    "            print(f\"Newton Raphson Root at x = {x1:.6f}\" )\n",
    "            break \n",
    "        \n",
    "        else:\n",
    "            x0 = x1\n",
    "\n",
    "newton_time = timeit.default_timer() - start_time\n",
    "\n",
    "\n",
    "print(f\"BisectionTime : {bisection_time}\")\n",
    "print(f\"Newton Raphson Time : {newton_time}\" ) \n",
    "\n",
    "if newton_time < bisection_time :\n",
    "    print(f\"\\n\\nNewton raphson method  is faster than Bisection method\")\n",
    "else:\n",
    "    print(\"\\n\\nBisection method  is faster than Newton Raphson method\")\n",
    "\n",
    "\n"
   ]
  },
  {
   "cell_type": "code",
   "execution_count": null,
   "id": "14675722",
   "metadata": {},
   "outputs": [],
   "source": [
    "\n"
   ]
  }
 ],
 "metadata": {
  "kernelspec": {
   "display_name": "Python 3 (ipykernel)",
   "language": "python",
   "name": "python3"
  },
  "language_info": {
   "codemirror_mode": {
    "name": "ipython",
    "version": 3
   },
   "file_extension": ".py",
   "mimetype": "text/x-python",
   "name": "python",
   "nbconvert_exporter": "python",
   "pygments_lexer": "ipython3",
   "version": "3.11.1"
  }
 },
 "nbformat": 4,
 "nbformat_minor": 5
}
