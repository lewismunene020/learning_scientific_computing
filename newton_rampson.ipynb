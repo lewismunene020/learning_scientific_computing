{
 "cells": [
  {
   "cell_type": "code",
   "execution_count": 44,
   "id": "5c4ab371",
   "metadata": {},
   "outputs": [
    {
     "name": "stdout",
     "output_type": "stream",
     "text": [
      "STEP 1 --------->  x=1.000000  , fx=-6.000000 , dfx=-6.000000\n",
      "STEP 2 --------->  x=7.000000  , fx=324.000000 , dfx=324.000000\n",
      "STEP 3 --------->  x=4.765517  , fx=93.694599 , dfx=93.694599\n",
      "STEP 4 --------->  x=3.348703  , fx=25.854312 , dfx=25.854312\n",
      "STEP 5 --------->  x=2.531600  , fx=6.161815 , dfx=6.161815\n",
      "STEP 6 --------->  x=2.173916  , fx=0.925900 , dfx=0.925900\n",
      "STEP 7 --------->  x=2.097884  , fx=0.037262 , dfx=0.037262\n",
      "STEP 8 --------->  x=2.094558  , fx=0.000070 , dfx=0.000070\n",
      "Root at x = 2.094551\n",
      "Time taken in seconds is 0.002988 seconds \n"
     ]
    }
   ],
   "source": [
    "import math  \n",
    "import matplotlib\n",
    "import timeit\n",
    "\n",
    "\n",
    "def f(x) :\n",
    "     return x**3 -2*x -5\n",
    "        \n",
    "\n",
    "def df(x):\n",
    "    return 3*x**2 -2 \n",
    "    \n",
    "    \n",
    "x0 = 1\n",
    "tolerance = 1e-6\n",
    "max_iterations = 100 \n",
    "\n",
    "start_time = timeit.default_timer()\n",
    "\n",
    "for i in range(max_iterations) :\n",
    "    fx = f(x0)\n",
    "    dfx = df(x0)\n",
    "    print(f\"STEP {i +1} --------->  x={x0:.6f}  , fx={fx:.6f} , dfx={fx:.6f}\")\n",
    "    x1 = x0 - fx / dfx\n",
    "    if abs( f(x1) ) < tolerance:\n",
    "        print(f\"Root at x = {x1:.6f}\" )\n",
    "        break \n",
    "        \n",
    "    else:\n",
    "        x0 = x1\n",
    "        \n",
    "end_time = timeit.default_timer()\n",
    "\n",
    "time_taken =  end_time - start_time\n",
    "\n",
    "print(f\"Time taken in seconds is {time_taken:.6f} seconds \")"
   ]
  }
 ],
 "metadata": {
  "kernelspec": {
   "display_name": "Python 3 (ipykernel)",
   "language": "python",
   "name": "python3"
  },
  "language_info": {
   "codemirror_mode": {
    "name": "ipython",
    "version": 3
   },
   "file_extension": ".py",
   "mimetype": "text/x-python",
   "name": "python",
   "nbconvert_exporter": "python",
   "pygments_lexer": "ipython3",
   "version": "3.11.1"
  }
 },
 "nbformat": 4,
 "nbformat_minor": 5
}
